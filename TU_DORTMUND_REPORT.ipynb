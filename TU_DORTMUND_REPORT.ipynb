{
  "nbformat": 4,
  "nbformat_minor": 0,
  "metadata": {
    "colab": {
      "provenance": [],
      "authorship_tag": "ABX9TyNBOiSq0217M3UlZei2Y+bS",
      "include_colab_link": true
    },
    "kernelspec": {
      "name": "python3",
      "display_name": "Python 3"
    },
    "language_info": {
      "name": "python"
    }
  },
  "cells": [
    {
      "cell_type": "markdown",
      "metadata": {
        "id": "view-in-github",
        "colab_type": "text"
      },
      "source": [
        "<a href=\"https://colab.research.google.com/github/rahul25012003/TU-DORTMUND-PROJECT/blob/main/TU_DORTMUND_REPORT.ipynb\" target=\"_parent\"><img src=\"https://colab.research.google.com/assets/colab-badge.svg\" alt=\"Open In Colab\"/></a>"
      ]
    },
    {
      "cell_type": "code",
      "execution_count": 26,
      "metadata": {
        "id": "hSQRb_KScmUw"
      },
      "outputs": [],
      "source": [
        "import pandas as pd\n",
        "import numpy as np\n",
        "import seaborn as sns\n",
        "import matplotlib.pyplot as plt\n",
        "\n",
        "import statsmodels.api as sm\n",
        "from statsmodels.formula.api import ols\n",
        "\n",
        "\n",
        "\n",
        "\n",
        "\n",
        "\n",
        "\n",
        "\n",
        "\n",
        "\n",
        "\n",
        "\n",
        "\n",
        "\n",
        "\n",
        "\n",
        "\n",
        "\n",
        "\n",
        "\n"
      ]
    },
    {
      "cell_type": "code",
      "source": [
        "# Load the data\n",
        "df = pd.read_csv('sandwich.csv')"
      ],
      "metadata": {
        "id": "j_vNoCQAcnHn"
      },
      "execution_count": 27,
      "outputs": []
    },
    {
      "cell_type": "code",
      "source": [
        "# View first few rows\n",
        "print(df.head())"
      ],
      "metadata": {
        "colab": {
          "base_uri": "https://localhost:8080/"
        },
        "id": "JlPAQgP6cnJw",
        "outputId": "2d2d8f60-086f-405a-9971-3548e0dce7ab"
      },
      "execution_count": 28,
      "outputs": [
        {
          "output_type": "stream",
          "name": "stdout",
          "text": [
            "   antCount        bread           topping butter\n",
            "0        34          Rye  Ham and gherkins     no\n",
            "1        47  Multi Grain     Peanut butter    yes\n",
            "2        67        White  Ham and gherkins    yes\n",
            "3        63  Multi Grain  Ham and gherkins    yes\n",
            "4        65          Rye  Ham and gherkins     no\n"
          ]
        }
      ]
    },
    {
      "cell_type": "code",
      "source": [
        "# Check dataset info\n",
        "print(\"\\nDataset Information:\")\n",
        "print(df.info())"
      ],
      "metadata": {
        "colab": {
          "base_uri": "https://localhost:8080/"
        },
        "id": "8K_RjCNscnN0",
        "outputId": "25f58f95-6a18-490a-b9e0-8c24bf35285c"
      },
      "execution_count": 29,
      "outputs": [
        {
          "output_type": "stream",
          "name": "stdout",
          "text": [
            "\n",
            "Dataset Information:\n",
            "<class 'pandas.core.frame.DataFrame'>\n",
            "RangeIndex: 48 entries, 0 to 47\n",
            "Data columns (total 4 columns):\n",
            " #   Column    Non-Null Count  Dtype \n",
            "---  ------    --------------  ----- \n",
            " 0   antCount  48 non-null     int64 \n",
            " 1   bread     48 non-null     object\n",
            " 2   topping   48 non-null     object\n",
            " 3   butter    48 non-null     object\n",
            "dtypes: int64(1), object(3)\n",
            "memory usage: 1.6+ KB\n",
            "None\n"
          ]
        }
      ]
    },
    {
      "cell_type": "code",
      "source": [
        "\n",
        "# Check for missing values\n",
        "print(\"\\nMissing Values:\")\n",
        "print(df.isnull().sum())"
      ],
      "metadata": {
        "colab": {
          "base_uri": "https://localhost:8080/"
        },
        "id": "uRBWlAmRcnQq",
        "outputId": "49869569-1b77-41c9-f0ca-06cb28f105a7"
      },
      "execution_count": 30,
      "outputs": [
        {
          "output_type": "stream",
          "name": "stdout",
          "text": [
            "\n",
            "Missing Values:\n",
            "antCount    0\n",
            "bread       0\n",
            "topping     0\n",
            "butter      0\n",
            "dtype: int64\n"
          ]
        }
      ]
    },
    {
      "cell_type": "code",
      "source": [
        "# Summary statistics for the number of ants\n",
        "print(\"\\nSummary Statistics (Ants Count):\")\n",
        "print(df['antCount'].describe())"
      ],
      "metadata": {
        "colab": {
          "base_uri": "https://localhost:8080/"
        },
        "id": "KNBf1cyWcnV8",
        "outputId": "39a28d86-b6da-4ff1-a6a0-29677cf24dbe"
      },
      "execution_count": 31,
      "outputs": [
        {
          "output_type": "stream",
          "name": "stdout",
          "text": [
            "\n",
            "Summary Statistics (Ants Count):\n",
            "count    48.000000\n",
            "mean     43.500000\n",
            "std      15.148906\n",
            "min      18.000000\n",
            "25%      30.500000\n",
            "50%      43.000000\n",
            "75%      57.000000\n",
            "max      76.000000\n",
            "Name: antCount, dtype: float64\n"
          ]
        }
      ]
    },
    {
      "cell_type": "code",
      "source": [
        "# Grouped Summary Statistics\n",
        "group_summary = df.groupby(['bread', 'topping', 'butter'])['antCount'].agg(['count', 'mean', 'median', 'std', 'min', 'max'])\n",
        "print(\"\\nGrouped Summary Statistics:\")\n",
        "print(group_summary)"
      ],
      "metadata": {
        "colab": {
          "base_uri": "https://localhost:8080/"
        },
        "id": "y4VXDMKicnYj",
        "outputId": "7b3f3948-b99a-41dc-b77b-759ce6b1fe1d"
      },
      "execution_count": 32,
      "outputs": [
        {
          "output_type": "stream",
          "name": "stdout",
          "text": [
            "\n",
            "Grouped Summary Statistics:\n",
            "                                     count  mean  median        std  min  max\n",
            "bread       topping          butter                                          \n",
            "Multi Grain Ham and gherkins no          2  47.5    47.5  16.263456   36   59\n",
            "                             yes         2  69.5    69.5   9.192388   63   76\n",
            "            Peanut butter    no          2  20.5    20.5   2.121320   19   22\n",
            "                             yes         2  53.5    53.5   9.192388   47   60\n",
            "            Yeast spread     no          2  40.0    40.0   2.828427   38   42\n",
            "                             yes         2  27.0    27.0   1.414214   26   28\n",
            "Rye         Ham and gherkins no          2  49.5    49.5  21.920310   34   65\n",
            "                             yes         2  49.5    49.5  12.020815   41   58\n",
            "            Peanut butter    no          2  53.0    53.0   8.485281   47   59\n",
            "                             yes         2  39.0    39.0   4.242641   36   42\n",
            "            Yeast spread     no          2  25.0    25.0   5.656854   21   29\n",
            "                             yes         2  49.5    49.5  10.606602   42   57\n",
            "White       Ham and gherkins no          2  49.0    49.0   7.071068   44   54\n",
            "                             yes         2  66.0    66.0   1.414214   65   67\n",
            "            Peanut butter    no          2  42.0    42.0   8.485281   36   48\n",
            "                             yes         2  38.5    38.5  16.263456   27   50\n",
            "            Yeast spread     no          2  24.5    24.5   9.192388   18   31\n",
            "                             yes         2  33.5    33.5  16.263456   22   45\n",
            "Whole Grain Ham and gherkins no          2  50.5    50.5   3.535534   48   53\n",
            "                             yes         2  62.5    62.5   4.949747   59   66\n",
            "            Peanut butter    no          2  22.5    22.5   2.121320   21   24\n",
            "                             yes         2  54.0    54.0   4.242641   51   57\n",
            "            Yeast spread     no          2  33.5    33.5  12.020815   25   42\n",
            "                             yes         2  44.0    44.0   5.656854   40   48\n"
          ]
        }
      ]
    },
    {
      "cell_type": "code",
      "source": [
        "# Set a clean style for plots\n",
        "sns.set(style=\"whitegrid\")"
      ],
      "metadata": {
        "id": "ZfLlJZOac625"
      },
      "execution_count": 33,
      "outputs": []
    },
    {
      "cell_type": "code",
      "source": [
        "print(df.describe(include = \"all\"))\n",
        "\n",
        "\n",
        "\n",
        "\n",
        "\n",
        "\n"
      ],
      "metadata": {
        "colab": {
          "base_uri": "https://localhost:8080/"
        },
        "id": "Z1a9vl8Tc7A7",
        "outputId": "3745f02c-d111-401b-f8f6-c6805324bf8e"
      },
      "execution_count": 38,
      "outputs": [
        {
          "output_type": "stream",
          "name": "stdout",
          "text": [
            "         antCount bread           topping butter\n",
            "count   48.000000    48                48     48\n",
            "unique        NaN     4                 3      2\n",
            "top           NaN   Rye  Ham and gherkins     no\n",
            "freq          NaN    12                16     24\n",
            "mean    43.500000   NaN               NaN    NaN\n",
            "std     15.148906   NaN               NaN    NaN\n",
            "min     18.000000   NaN               NaN    NaN\n",
            "25%     30.500000   NaN               NaN    NaN\n",
            "50%     43.000000   NaN               NaN    NaN\n",
            "75%     57.000000   NaN               NaN    NaN\n",
            "max     76.000000   NaN               NaN    NaN\n"
          ]
        }
      ]
    },
    {
      "cell_type": "code",
      "source": [
        "# Boxplot: Ants attracted by Bread type\n",
        "plt.figure(figsize=(10,6))\n",
        "sns.boxplot(x='bread', y='antCount', data=df) # Changed 'ants' to 'antCount'\n",
        "plt.title('Distribution of Ants by Bread Type')\n",
        "plt.xlabel('Bread Type')\n",
        "plt.ylabel('Number of Ants')\n",
        "plt.grid(True)\n",
        "plt.savefig('boxplot_bread.png')\n",
        "plt.show()\n",
        "\n",
        "\n",
        "\n",
        "\n",
        "\n",
        "\n",
        "\n",
        "\n",
        "\n",
        "\n",
        "\n",
        "\n",
        "\n",
        "\n",
        "\n",
        "\n",
        "\n"
      ],
      "metadata": {
        "colab": {
          "base_uri": "https://localhost:8080/",
          "height": 573
        },
        "id": "_BQLijuUwWoW",
        "outputId": "be1969ae-da6d-497a-e461-f7ea05a43cac"
      },
      "execution_count": 45,
      "outputs": [
        {
          "output_type": "display_data",
          "data": {
            "text/plain": [
              "<Figure size 1000x600 with 1 Axes>"
            ],
            "image/png": "[encoded data removed]"
          },
          "metadata": {}
        }
      ]
    },
    {
      "cell_type": "code",
      "source": [
        "# Boxplot: Ants attracted by Topping\n",
        "plt.figure(figsize=(10,6))\n",
        "sns.boxplot(x='topping', y='antCount', data=df)\n",
        "plt.title('Distribution of Ants by Topping')\n",
        "plt.xlabel('Topping Type')\n",
        "plt.ylabel('Number of Ants')\n",
        "plt.grid(True)\n",
        "plt.savefig('boxplot_topping.png')\n",
        "plt.show()"
      ],
      "metadata": {
        "colab": {
          "base_uri": "https://localhost:8080/",
          "height": 573
        },
        "id": "AlE3J-36wWlD",
        "outputId": "14b55dd4-c75e-4a3c-c893-3b8ad123f293"
      },
      "execution_count": 47,
      "outputs": [
        {
          "output_type": "display_data",
          "data": {
            "text/plain": [
              "<Figure size 1000x600 with 1 Axes>"
            ],
            "image/png": "[encoded data removed]"
          },
          "metadata": {}
        }
      ]
    },
    {
      "cell_type": "code",
      "source": [
        "# Boxplot: Ants attracted by Butter\n",
        "plt.figure(figsize=(8,5))\n",
        "sns.boxplot(x='butter', y='antCount', data=df)\n",
        "plt.title('Effect of Butter on Number of Ants')\n",
        "plt.xlabel('Butter (Yes/No)')\n",
        "plt.ylabel('Number of Ants')\n",
        "plt.grid(True)\n",
        "plt.savefig('boxplot_butter.png')\n",
        "plt.show()"
      ],
      "metadata": {
        "colab": {
          "base_uri": "https://localhost:8080/",
          "height": 496
        },
        "id": "E924II6uwWjD",
        "outputId": "3e53b3fc-eb66-4c40-97eb-0eadb2fec4a2"
      },
      "execution_count": 48,
      "outputs": [
        {
          "output_type": "display_data",
          "data": {
            "text/plain": [
              "<Figure size 800x500 with 1 Axes>"
            ],
            "image/png": "[encoded data removed]"
          },
          "metadata": {}
        }
      ]
    },
    {
      "cell_type": "code",
      "source": [],
      "metadata": {
        "id": "sKGHo4vowWhH"
      },
      "execution_count": null,
      "outputs": []
    },
    {
      "cell_type": "code",
      "source": [
        "model_bread = ols('antCount ~ C(bread)', data=df).fit()\n",
        "anova_bread = sm.stats.anova_lm(model_bread, typ=2)\n",
        "print(anova_bread)"
      ],
      "metadata": {
        "colab": {
          "base_uri": "https://localhost:8080/"
        },
        "id": "QOMXpXhQc7C3",
        "outputId": "ae93ded2-6d13-48b8-8fac-527d1c7d0c92"
      },
      "execution_count": 40,
      "outputs": [
        {
          "output_type": "stream",
          "name": "stdout",
          "text": [
            "           sum_sq    df         F    PR(>F)\n",
            "C(bread)     40.5   3.0  0.055279  0.982674\n",
            "Residual  10745.5  44.0       NaN       NaN\n"
          ]
        }
      ]
    },
    {
      "cell_type": "code",
      "source": [
        "# ANOVA for Topping\n",
        "model_topping = ols('antCount ~ C(topping)', data=df).fit()\n",
        "anova_topping = sm.stats.anova_lm(model_topping, typ=2)\n",
        "print(anova_topping)"
      ],
      "metadata": {
        "colab": {
          "base_uri": "https://localhost:8080/"
        },
        "id": "ezJ3vYGRc7E8",
        "outputId": "620be42c-efd2-422f-c93b-3673170adeea"
      },
      "execution_count": 41,
      "outputs": [
        {
          "output_type": "stream",
          "name": "stdout",
          "text": [
            "            sum_sq    df          F    PR(>F)\n",
            "C(topping)  3720.5   2.0  11.847888  0.000074\n",
            "Residual    7065.5  45.0        NaN       NaN\n"
          ]
        }
      ]
    },
    {
      "cell_type": "code",
      "source": [
        "# ANOVA for Butter\n",
        "model_butter = ols('antCount ~ C(butter)', data=df).fit()\n",
        "anova_butter = sm.stats.anova_lm(model_butter, typ=2)\n",
        "print(anova_butter)"
      ],
      "metadata": {
        "colab": {
          "base_uri": "https://localhost:8080/"
        },
        "id": "nQjdUeODc7IL",
        "outputId": "ab88ad5a-24cf-4033-8ece-e1ed1b4b02f4"
      },
      "execution_count": 42,
      "outputs": [
        {
          "output_type": "stream",
          "name": "stdout",
          "text": [
            "            sum_sq    df         F   PR(>F)\n",
            "C(butter)  1386.75   1.0  6.786765  0.01233\n",
            "Residual   9399.25  46.0       NaN      NaN\n"
          ]
        }
      ]
    },
    {
      "cell_type": "code",
      "source": [],
      "metadata": {
        "id": "lZ-Ygi88c7Kc"
      },
      "execution_count": null,
      "outputs": []
    },
    {
      "cell_type": "code",
      "source": [],
      "metadata": {
        "id": "eX_1lSTXc7Ms"
      },
      "execution_count": null,
      "outputs": []
    },
    {
      "cell_type": "code",
      "source": [],
      "metadata": {
        "id": "3tqSp8ZFc7Ov"
      },
      "execution_count": null,
      "outputs": []
    },
    {
      "cell_type": "code",
      "source": [],
      "metadata": {
        "id": "Q4cOCNIOc7Q5"
      },
      "execution_count": null,
      "outputs": []
    },
    {
      "cell_type": "code",
      "source": [],
      "metadata": {
        "id": "8alu1xV5c7TF"
      },
      "execution_count": null,
      "outputs": []
    },
    {
      "cell_type": "code",
      "source": [],
      "metadata": {
        "id": "GyLr1tBUc7VZ"
      },
      "execution_count": null,
      "outputs": []
    },
    {
      "cell_type": "code",
      "source": [],
      "metadata": {
        "id": "PUu4MBAUc7Xa"
      },
      "execution_count": null,
      "outputs": []
    },
    {
      "cell_type": "code",
      "source": [],
      "metadata": {
        "id": "8Aq2cBspc7ZZ"
      },
      "execution_count": null,
      "outputs": []
    },
    {
      "cell_type": "code",
      "source": [],
      "metadata": {
        "id": "o7RxhZjkc7bu"
      },
      "execution_count": null,
      "outputs": []
    },
    {
      "cell_type": "code",
      "source": [],
      "metadata": {
        "id": "VpYBlOMWc7dz"
      },
      "execution_count": null,
      "outputs": []
    },
    {
      "cell_type": "code",
      "source": [],
      "metadata": {
        "id": "up1dBFFbc7fv"
      },
      "execution_count": null,
      "outputs": []
    },
    {
      "cell_type": "code",
      "source": [],
      "metadata": {
        "id": "GuSBoP-Hc7h6"
      },
      "execution_count": null,
      "outputs": []
    },
    {
      "cell_type": "code",
      "source": [],
      "metadata": {
        "id": "4HdcQX49c7j3"
      },
      "execution_count": null,
      "outputs": []
    },
    {
      "cell_type": "code",
      "source": [],
      "metadata": {
        "id": "aC4SSFAac7nV"
      },
      "execution_count": null,
      "outputs": []
    },
    {
      "cell_type": "code",
      "source": [],
      "metadata": {
        "id": "D96oBNy5cnam"
      },
      "execution_count": null,
      "outputs": []
    },
    {
      "cell_type": "code",
      "source": [],
      "metadata": {
        "id": "aMrMQ6CDcneF"
      },
      "execution_count": null,
      "outputs": []
    }
  ]
}